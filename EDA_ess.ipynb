{
 "cells": [
  {
   "cell_type": "markdown",
   "metadata": {},
   "source": [
    "- Author: Peter Steiglechner\n",
    "- Start Date: Jan 2024\n",
    "\n",
    "> **The core idea**: Using data from the ESS about Germans' climate change opinions in 2016 and in 2020 to estimate subjective actual and perceived opinion polarisation based on social identities. This notebook produces visualisations of the Explorative Data Analysis:\n",
    "> - histograms (and fitted beta distributions) of the German climate opinions\n",
    "> - inferred representations of the opinion space\n",
    "\n",
    "\n"
   ]
  },
  {
   "cell_type": "code",
   "execution_count": null,
   "metadata": {},
   "outputs": [
    {
     "ename": "",
     "evalue": "",
     "output_type": "error",
     "traceback": [
      "\u001b[1;31mRunning cells with 'ms2-noise' requires the ipykernel package.\n",
      "\u001b[1;31mRun the following command to install 'ipykernel' into the Python environment. \n",
      "\u001b[1;31mCommand: 'conda install -n ms2-noise ipykernel --update-deps --force-reinstall'"
     ]
    }
   ],
   "source": [
    "from main import *\n",
    "\n",
    "import matplotlib.pyplot as plt\n",
    "import seaborn as sns\n",
    "from scipy.stats import beta, norm\n",
    "\n",
    "sns.set_style(\"ticks\", {\"axes.linewidth\":0.5})\n",
    "smallfs = 8\n",
    "bigfs = 10\n",
    "plt.rc('font', size=smallfs)          # Ticklabels, legend labels, etc.\n",
    "plt.rc('axes', labelsize=bigfs)    # Axis labels\n",
    "plt.rc('axes', titlesize=bigfs)    # Titles"
   ]
  },
  {
   "cell_type": "markdown",
   "metadata": {},
   "source": [
    "# Load and prepare Data"
   ]
  },
  {
   "cell_type": "code",
   "execution_count": null,
   "metadata": {},
   "outputs": [
    {
     "ename": "",
     "evalue": "",
     "output_type": "error",
     "traceback": [
      "\u001b[1;31mRunning cells with 'ms2-noise' requires the ipykernel package.\n",
      "\u001b[1;31mRun the following command to install 'ipykernel' into the Python environment. \n",
      "\u001b[1;31mCommand: 'conda install -n ms2-noise ipykernel --update-deps --force-reinstall'"
     ]
    }
   ],
   "source": [
    "folder = \"/home/peter.steiglechner/labspaces/cognitive-biases-in-opinion-formation/data/ms3-subjOpSpace/ess/\"\n",
    "\n",
    "# Load data\n",
    "cntry = \"DE\"\n",
    "variables = [\"ccnthum\", \"wrclmch\"]\n",
    "variables_na = {\"ccnthum\": [55, 66, 77, 88, 99], \"wrclmch\": [6, 7, 8, 9]} \n",
    "waves = [8, 10]\n",
    "\n",
    "# Define German parties\n",
    "wave_t0_prtcl = \"prtclede\"\n",
    "wave_t1_prtcl = \"prtclfde\"\n",
    "\n",
    "ESSparty_dict_t0 = {\n",
    "    1: \"Union\",\n",
    "    2: \"SPD\",\n",
    "    3: \"Left Party\",\n",
    "    4: \"Greens\", \n",
    "    5: \"FDP\",\n",
    "    6: \"AfD\"\n",
    "}\n",
    "for p in [7,8,9]: # coded \"other Party\" as np.nan\n",
    "    ESSparty_dict_t0[p] = -1\n",
    "ESSparty_dict_t1 = ESSparty_dict_t0\n",
    "for p in [7,8,9]: # coded \"other Party\" as np.nan\n",
    "    ESSparty_dict_t1[p] = -1\n",
    "for p in [66,88]: # coded as separate \"None\" fraction \n",
    "    ESSparty_dict_t0[p] = \"None\"\n",
    "    ESSparty_dict_t1[p] = \"None\"\n",
    "\n",
    "parties = [\"Left Party\", \"Greens\", \"SPD\", \"None\", \"FDP\", \"Union\", \"AfD\"]\n",
    "assert all([((p in ESSparty_dict_t0.values()) and (p in ESSparty_dict_t1.values())) for p in parties])\n",
    "\n",
    "\n",
    "cols = [\"essround\", \"anweight\", \"cntry\", \"prtdgcl\"] + variables\n",
    "rawdataC = pd.concat(\n",
    "        [\n",
    "            pd.read_csv(f\"{folder}{essfile}.csv\", \n",
    "                        usecols=cols + [prtclcol]) \n",
    "            for essfile, prtclcol in zip([\"ESS8e02_3\", \"ESS10SC\"], [wave_t0_prtcl, wave_t1_prtcl])\n",
    "        ], \n",
    "        axis=0\n",
    "    )\n",
    "data = rawdataC.loc[rawdataC.cntry == cntry]\n",
    "data = data.reset_index()\n",
    "\n",
    "\n",
    "# Run analysis\n",
    "\n",
    "data = prepareData(data, wave_t0_prtcl, wave_t1_prtcl, ESSparty_dict_t0, ESSparty_dict_t1, variables=variables, variables_na=variables_na)\n",
    "filtered_data = data.dropna(subset=[\"identity\"]+variables, how=\"any\", axis=\"index\")\n"
   ]
  },
  {
   "cell_type": "code",
   "execution_count": null,
   "metadata": {},
   "outputs": [
    {
     "ename": "",
     "evalue": "",
     "output_type": "error",
     "traceback": [
      "\u001b[1;31mRunning cells with 'ms2-noise' requires the ipykernel package.\n",
      "\u001b[1;31mRun the following command to install 'ipykernel' into the Python environment. \n",
      "\u001b[1;31mCommand: 'conda install -n ms2-noise ipykernel --update-deps --force-reinstall'"
     ]
    }
   ],
   "source": [
    "cols = dict(zip([\"Union\", \"SPD\", \"Left Party\", \"Greens\", \"FDP\", \"AfD\", \"None\"], [\"#000000\", \"#E3000F\", \"#b61c3e\", \"#1AA037\", \"#FFEF00\", \"#0489DB\", \"grey\"]))  # \n",
    "\n",
    "kuerzel2party = {\"u\":\"Union\", \"s\":\"SPD\", \"l\":\"Left Party\", \"g\":\"Greens\", \"f\":\"FDP\", \"a\":\"AfD\", \"n\":\"None\"}\n"
   ]
  },
  {
   "cell_type": "markdown",
   "metadata": {},
   "source": [
    "# Plot Distributions without identities"
   ]
  },
  {
   "cell_type": "code",
   "execution_count": null,
   "metadata": {},
   "outputs": [
    {
     "ename": "",
     "evalue": "",
     "output_type": "error",
     "traceback": [
      "\u001b[1;31mRunning cells with 'ms2-noise' requires the ipykernel package.\n",
      "\u001b[1;31mRun the following command to install 'ipykernel' into the Python environment. \n",
      "\u001b[1;31mCommand: 'conda install -n ms2-noise ipykernel --update-deps --force-reinstall'"
     ]
    }
   ],
   "source": [
    "question = {\n",
    "    \"ccnthum\":\"Climate change caused by natural \\nprocesses, human activity, or both?\", \n",
    "    \"wrclmch\":\"How worried about\\nclimate change?\"\n",
    "    }\n",
    "replies = {\n",
    "    \"ccnthum\": dict(zip(range(1,6), [\"Entirely by natural processes\", \"Mainly by natural processes\", \"About equally by natural processes and human activity\", \"Mainly by human activity\", \"Entirely by human activity\"])), \n",
    "    \"wrclmch\":dict(zip(range(1,6), [\"Not at all worried\", \"Not very worried\", \"Somewhat worried\", \"Very worried\", \"Extremely worried\"]))    \n",
    "    # 55\tI don't think climate change is happening \n",
    "}\n",
    "\n",
    "repliesShort = {\n",
    "    \"ccnthum\": dict(zip(range(1,6), [\"natural\", \"mainly natural\", \"both\", \"mainly human\", \"human\"])), \n",
    "    \"wrclmch\":dict(zip(range(1,6), [\"not at all\", \"not very\", \"somewhat\", \"Very\", \"extremely\"]))    \n",
    "    # 55\tI don't think climate change is happening \n",
    "}"
   ]
  },
  {
   "cell_type": "code",
   "execution_count": null,
   "metadata": {},
   "outputs": [
    {
     "ename": "",
     "evalue": "",
     "output_type": "error",
     "traceback": [
      "\u001b[1;31mRunning cells with 'ms2-noise' requires the ipykernel package.\n",
      "\u001b[1;31mRun the following command to install 'ipykernel' into the Python environment. \n",
      "\u001b[1;31mCommand: 'conda install -n ms2-noise ipykernel --update-deps --force-reinstall'"
     ]
    }
   ],
   "source": [
    "\n",
    "fig, axs = plt.subplots(1,2, sharey=True, figsize=(16/2.54, 6/2.54), gridspec_kw={\"wspace\":0.1})\n",
    "prop_cycle = plt.rcParams['axes.prop_cycle']\n",
    "colors = prop_cycle.by_key()['color']\n",
    "for ax, var in zip(axs, [\"ccnthum\", \"wrclmch\"]):\n",
    "    print(var)\n",
    "    x = np.linspace(0.5,5.5,100)\n",
    "    for n, r in enumerate(waves):\n",
    "        props = beta.fit(filtered_data.loc[filtered_data.essround==r][var].dropna(), floc=x[0], fscale=x[-1]-x[0])\n",
    "        propsN = norm.fit(filtered_data.loc[filtered_data.essround==r][var].dropna())\n",
    "        fitted_beta = beta(*props)\n",
    "        fitted_norm = norm(*propsN)\n",
    "        fitstats = fitted_beta.stats(moments='mvsk')\n",
    "        print(r, \"Beta Fit\", dict(zip([\"mean\", \"var\", \"skew\", \"kurt\"], [f\"{f:.3f}\" for f in fitstats])))\n",
    "        print(r, \"Gauss Fit\", dict(zip([\"mean\", \"var\", \"skew\", \"kurt\"], [f\"{f:.3f}\" for f in fitted_norm.stats(moments=\"mvsk\")])))\n",
    "        p = filtered_data.loc[filtered_data.essround==r][var].plot.hist(ax=ax, alpha=0.33, bins=np.arange(-0.5, 5.51), width=0.8, density=True, label=f\"ESS wave {r}\")\n",
    "        ax.plot(x, fitted_beta.pdf(x), label=f\"ESS wave {r}\", color=colors[n])\n",
    "        #ax.plot(x, fitted_norm.pdf(x), ls=\"--\", color=colors[n])\n",
    "        ax.set_facecolor('white')\n",
    "    ax.set_xlabel(question[var] + f\"\\n–{var}–\", fontsize=smallfs)\n",
    "    ax.set_ylim(0,0.7)\n",
    "    ax.set_xlim(x[0], x[-1])\n",
    "    ax.set_xticks(np.arange(x[0]+0.5, x[-1]))\n",
    "    ax.set_xticklabels([repliesShort[var][k] if k%2==1 else \"\" for k in ax.get_xticks() ], fontsize=smallfs)\n",
    "\n",
    "axs[0].set_ylabel(\"Frequency\", fontsize=bigfs)\n",
    "h, l = axs[1].get_legend_handles_labels()\n",
    "ph = [plt.plot([],marker=\"\", ls=\"\")[0]]\n",
    "handles = [h[0]] + [h[2]] + [h[1]] + [h[3]]\n",
    "labels =[\"\", \"\"] + [l[1]] + [l[3]]\n",
    "axs[1].legend(handles, labels, fontsize=smallfs, ncol=2, handletextpad=1.3, columnspacing=0.6, title=\"Data & Beta-Fit                  \", loc=\"upper right\")\n",
    "#plt.legend(handles, labels, ncol=2)\n",
    "plt.setp(axs[1].get_legend().get_title(), fontsize=smallfs) # for legend title\n",
    "\n",
    "axs[0].text(0.05, 0.95, \"A\", va=\"top\", ha=\"left\", fontdict={\"weight\":\"bold\", \"size\":12}, transform=axs[0].transAxes)\n",
    "axs[1].text(0.05, 0.95, \"B\", va=\"top\", ha=\"left\", fontdict={\"weight\":\"bold\", \"size\":12}, transform=axs[1].transAxes)\n",
    "for ax in axs:\n",
    "    ax.set_yticklabels([])\n",
    "    ax.tick_params(left=False, bottom=True)\n",
    "#fig.set_facecolor(\"yellow\")\n",
    "fig.subplots_adjust(bottom=0.26, left=0.05, right=0.99, top=0.99)\n",
    "plt.savefig(\"figs/clchvars_total-distribution_wave8-10.pdf\")\n",
    "plt.savefig(\"figs/clchvars_total-distribution_wave8-10.png\", dpi=600)"
   ]
  },
  {
   "cell_type": "markdown",
   "metadata": {},
   "source": [
    "# Plot distributions by identities"
   ]
  },
  {
   "cell_type": "code",
   "execution_count": null,
   "metadata": {},
   "outputs": [
    {
     "ename": "",
     "evalue": "",
     "output_type": "error",
     "traceback": [
      "\u001b[1;31mRunning cells with 'ms2-noise' requires the ipykernel package.\n",
      "\u001b[1;31mRun the following command to install 'ipykernel' into the Python environment. \n",
      "\u001b[1;31mCommand: 'conda install -n ms2-noise ipykernel --update-deps --force-reinstall'"
     ]
    }
   ],
   "source": [
    "fig, axs = plt.subplots(2,2, sharey=True, figsize=(16/2.54, 8/2.54), sharex=\"col\", gridspec_kw={\"wspace\":0.1})\n",
    "#prop_cycle = plt.rcParams['axes.prop_cycle']\n",
    "#colors = prop_cycle.by_key()['color']\n",
    "fitted_betas_xparty = {}\n",
    "for axcol, var in zip([axs[:,0], axs[:,1]], [\"ccnthum\", \"wrclmch\"]):\n",
    "    print(var)\n",
    "    #axcol[0].set_title(var)\n",
    "    x = np.linspace(0.5,5.5,100)\n",
    "    fitted_betas_xparty[var] = {8:{}, 10:{}}\n",
    "    for n, (ax, r) in enumerate(zip(axcol, waves)):\n",
    "        for party in parties:\n",
    "            props = beta.fit(filtered_data.loc[filtered_data.identity==party].loc[filtered_data.essround==r][var].dropna(), floc=x[0], fscale=x[-1]-x[0])\n",
    "            fitted_beta = beta(*props)\n",
    "            fitted_betas_xparty[var][int(r)][party] = fitted_beta\n",
    "            fitstats = fitted_beta.stats(moments='mvsk')\n",
    "\n",
    "            #if party==\"Green\":\n",
    "            #    filtered_data.loc[filtered_data.identity==4].loc[filtered_data.essround==r][var].plot.hist(color=cols[\"Green\"], bins=np.arange(-0.5, 5.51), width=0.8, density=True, label=party, alpha=0.2, ax=ax)\n",
    "\n",
    "            ax.plot(x, fitted_beta.pdf(x), color=cols[party], label=party, lw=2)\n",
    "        ax.set_facecolor('white')\n",
    "        ax.set_yticks([])\n",
    "        ax.tick_params(left=False, bottom=True)\n",
    "\n",
    "    ax.set_xlabel(question[var]+ f\"\\n–{var}–\", fontsize=smallfs)\n",
    "    ax.set_xlim(x[0], x[-1])\n",
    "    ax.set_xticks(np.arange(x[0]+0.5, x[-1]))\n",
    "    ax.set_xticklabels([repliesShort[var][k] if k%2==1 else \"\" for k in ax.get_xticks() ], fontsize=smallfs)\n",
    "\n",
    "axs[0,1].legend(bbox_to_anchor=(1.02, 1.05), fontsize=smallfs, title=\"partisan\\nidentity\")\n",
    "\n",
    "\n",
    "axs[0,0].set_ylabel(\"Frequency\", fontsize=bigfs, y=0)\n",
    "axs[0,0].text(0.15,0.95, \"ESS wave 8\", ha=\"left\", va=\"top\", transform=axs[0,0].transAxes, fontsize=bigfs)\n",
    "axs[1,0].text(0.15,0.95, \"ESS wave 10\", ha=\"left\", va=\"top\", transform=axs[1,0].transAxes, fontsize=bigfs)\n",
    "axs[0,1].text(0.15,0.95, \"ESS wave 8\", ha=\"left\", va=\"top\", transform=axs[0,1].transAxes, fontsize=bigfs)\n",
    "axs[1,1].text(0.15,0.95, \"ESS wave 10\", ha=\"left\", va=\"top\", transform=axs[1,1].transAxes, fontsize=bigfs)\n",
    "\n",
    "#axs[0,0].legend(fontsize=8, ncol=2)\n",
    "axs[0,0].set_ylim(0,0.7)\n",
    "\n",
    "fig.subplots_adjust(bottom=0.2, left=0.04, right=0.83, top=0.99)\n",
    "#fig.set_facecolor(\"y\")\n",
    "\n",
    "axs[0,0].text(0.05, 0.95, \"A\", va=\"top\", ha=\"left\", fontdict={\"weight\":\"bold\", \"size\":12}, transform=axs[0, 0].transAxes)\n",
    "axs[0, 1].text(0.05, 0.95, \"B\", va=\"top\", ha=\"left\", fontdict={\"weight\":\"bold\", \"size\":12}, transform=axs[0,1].transAxes)\n",
    "axs[1, 0].text(0.05, 0.95, \"C\", va=\"top\", ha=\"left\", fontdict={\"weight\":\"bold\", \"size\":12}, transform=axs[1,0].transAxes)\n",
    "axs[1, 1].text(0.05, 0.95, \"D\", va=\"top\", ha=\"left\", fontdict={\"weight\":\"bold\", \"size\":12}, transform=axs[1,1].transAxes)\n",
    "\n",
    "plt.savefig(\"figs/clchvars_party-distribution_wave8-10.pdf\")\n",
    "plt.savefig(\"figs/clchvars_party-distribution_wave8-10.png\", dpi=600)"
   ]
  },
  {
   "cell_type": "markdown",
   "metadata": {},
   "source": [
    "# 2D climate opinion space"
   ]
  },
  {
   "cell_type": "code",
   "execution_count": null,
   "metadata": {},
   "outputs": [
    {
     "ename": "",
     "evalue": "",
     "output_type": "error",
     "traceback": [
      "\u001b[1;31mRunning cells with 'ms2-noise' requires the ipykernel package.\n",
      "\u001b[1;31mRun the following command to install 'ipykernel' into the Python environment. \n",
      "\u001b[1;31mCommand: 'conda install -n ms2-noise ipykernel --update-deps --force-reinstall'"
     ]
    }
   ],
   "source": [
    "CSS_dict, Trafo = get_Trafo(filtered_data, parties, waves=[8,10], variables=variables)"
   ]
  },
  {
   "cell_type": "markdown",
   "metadata": {},
   "source": [
    "## Without identities"
   ]
  },
  {
   "cell_type": "code",
   "execution_count": null,
   "metadata": {},
   "outputs": [
    {
     "ename": "",
     "evalue": "",
     "output_type": "error",
     "traceback": [
      "\u001b[1;31mRunning cells with 'ms2-noise' requires the ipykernel package.\n",
      "\u001b[1;31mRun the following command to install 'ipykernel' into the Python environment. \n",
      "\u001b[1;31mCommand: 'conda install -n ms2-noise ipykernel --update-deps --force-reinstall'"
     ]
    }
   ],
   "source": [
    "import matplotlib.colors as colors \n",
    "def truncate_colormap(cmap, minval=0.0, maxval=1.0, n=100):\n",
    "    new_cmap = colors.LinearSegmentedColormap.from_list(\n",
    "        'trunc({n},{a:.2f},{b:.2f})'.format(n=cmap.name, a=minval, b=maxval),\n",
    "        cmap(np.linspace(minval, maxval, n)))\n",
    "    return new_cmap\n"
   ]
  },
  {
   "cell_type": "code",
   "execution_count": null,
   "metadata": {},
   "outputs": [
    {
     "ename": "",
     "evalue": "",
     "output_type": "error",
     "traceback": [
      "\u001b[1;31mRunning cells with 'ms2-noise' requires the ipykernel package.\n",
      "\u001b[1;31mRun the following command to install 'ipykernel' into the Python environment. \n",
      "\u001b[1;31mCommand: 'conda install -n ms2-noise ipykernel --update-deps --force-reinstall'"
     ]
    }
   ],
   "source": [
    "scale = 1\n",
    "cmap = truncate_colormap(plt.get_cmap(\"Greys\"), 0.3, 0.6)\n",
    "fig, axs = plt.subplots(1,2, sharex=True, sharey=True, figsize=(16/2.54,8/2.54))#figsize=(16/2.54,8/2.54))\n",
    "for r, ax in zip(waves, axs):\n",
    "    ax.set_facecolor(\"snow\")\n",
    "    df =  filtered_data.loc[filtered_data.essround==r][[\"ccnthum\", \"wrclmch\"]].dropna(how=\"any\")\n",
    "    counts = df.groupby(['wrclmch', 'ccnthum']).size()\n",
    "    df['observation_count'] = df.groupby(['wrclmch', 'ccnthum']).transform('size')\n",
    "    sns.scatterplot(\n",
    "        x='ccnthum',\n",
    "        y='wrclmch',\n",
    "        hue='observation_count',\n",
    "        palette=cmap,  # Blues and oranges color palette\n",
    "        size='observation_count',\n",
    "        sizes=(30, 300),  # Adjust size range\n",
    "        data=df,\n",
    "        ax = ax, \n",
    "        legend=False\n",
    "    )\n",
    "    for p in parties:\n",
    "        if not p==\"None\":\n",
    "            pass\n",
    "        else:\n",
    "            col = cols[p]      \n",
    "            \n",
    "            X_train = filtered_data.loc[filtered_data.essround==r].loc[filtered_data.identity==p][[\"ccnthum\", \"wrclmch\"]].dropna(how=\"any\").to_numpy()\n",
    "            ax.plot(X_train[:,0].mean(), X_train[:,1].mean(), color=col, ls=\"\", marker=\"s\", markersize=3 , alpha=0.8, label=p)\n",
    "            for i in range(2):\n",
    "                vec = CSS_dict[r][p][:, i] * scale\n",
    "                if (r==waves[0]) and (i==0) and (p==\"FDP\"):\n",
    "                    vec=-vec\n",
    "                dx = vec[0] \n",
    "                dy = vec[1] \n",
    "                ax.arrow(X_train[:,0].mean(), X_train[:,1].mean(), dx, dy,color=cols[p], lw=1, alpha=0.8)\n",
    "            ax.set_ylim(0.5, 5.5)\n",
    "            ax.set_xlim(0.5, 5.5)\n",
    "            ax.set_xticks(range(1,6))\n",
    "            ax.set_yticks(range(1,6))\n",
    "            ax.set_aspect(\"equal\")\n",
    "            ax.grid(True)\n",
    "            ax.set_xlabel(\"ccnthum\", fontsize=bigfs)\n",
    "            if r==waves[0]:\n",
    "                ax.set_ylabel(\"wrclmch\", fontsize=bigfs)\n",
    "            ax.set_title(f\"ESS wave {r}\", fontsize=bigfs)\n",
    "axs[0].legend(fontsize=smallfs)\n",
    "fig.subplots_adjust(left=0.13, right=0.9, top=0.96, wspace=0.1)\n",
    "\n",
    "\n",
    "axs[0].text(0.01, 1.01, \"A\", va=\"bottom\", ha=\"left\", fontdict={\"weight\":\"bold\", \"size\":12}, transform=axs[0].transAxes)\n",
    "axs[1].text(0.01, 1.01, \"B\", va=\"bottom\", ha=\"left\", fontdict={\"weight\":\"bold\", \"size\":12}, transform=axs[1].transAxes)\n",
    "\n",
    "#fig.set_facecolor(\"y\")\n",
    "\n",
    "#plt.savefig(\"figs/Trafo_8-10_clch_party_onlyBlobsTot.png\", dpi=600)\n",
    "plt.savefig(f\"figs/Trafo_{waves[0]}-{waves[1]}_clch_party_+density_withoutId.png\", dpi=600)\n",
    "plt.savefig(f\"figs/Trafo_{waves[0]}-{waves[1]}_clch_party_+density_withoutId.pdf\")\n",
    "    "
   ]
  },
  {
   "cell_type": "markdown",
   "metadata": {},
   "source": [
    "## With identities"
   ]
  },
  {
   "cell_type": "markdown",
   "metadata": {},
   "source": [
    "### with density"
   ]
  },
  {
   "cell_type": "code",
   "execution_count": null,
   "metadata": {},
   "outputs": [
    {
     "ename": "",
     "evalue": "",
     "output_type": "error",
     "traceback": [
      "\u001b[1;31mRunning cells with 'ms2-noise' requires the ipykernel package.\n",
      "\u001b[1;31mRun the following command to install 'ipykernel' into the Python environment. \n",
      "\u001b[1;31mCommand: 'conda install -n ms2-noise ipykernel --update-deps --force-reinstall'"
     ]
    }
   ],
   "source": [
    "scale = 1\n",
    "\n",
    "cmap = truncate_colormap(plt.get_cmap(\"Greys\"), 0.2, 0.35)\n",
    "fig, axs = plt.subplots(1,2, sharex=True, sharey=True, figsize=(16/2.54,8/2.54))#figsize=(16/2.54,8/2.54))\n",
    "for r, ax in zip(waves, axs):\n",
    "    ax.set_facecolor(\"snow\")\n",
    "    df =  filtered_data.loc[filtered_data.essround==r][[\"ccnthum\", \"wrclmch\"]].dropna(how=\"any\")\n",
    "    counts = df.groupby(['wrclmch', 'ccnthum']).size()\n",
    "    df['observation_count'] = df.groupby(['wrclmch', 'ccnthum']).transform('size')\n",
    "    sns.scatterplot(\n",
    "        x='ccnthum',\n",
    "        y='wrclmch',\n",
    "        hue='observation_count',\n",
    "        palette=cmap,  # Blues and oranges color palette\n",
    "        size='observation_count',\n",
    "        sizes=(30, 300),  # Adjust size range\n",
    "        data=df,\n",
    "        ax = ax, \n",
    "        legend=False\n",
    "    )\n",
    "    for p in parties:\n",
    "        #if not p==\"None\":\n",
    "        #    pass\n",
    "        #else:\n",
    "        col = cols[p]      \n",
    "        \n",
    "        X_train = filtered_data.loc[filtered_data.essround==r].loc[filtered_data.identity==p][[\"ccnthum\", \"wrclmch\"]].dropna(how=\"any\").to_numpy()\n",
    "        ax.plot(X_train[:,0].mean(), X_train[:,1].mean(), color=col, ls=\"\", marker=\"s\", markersize=3 , alpha=0.8, label=p)\n",
    "        for i in range(2):\n",
    "            vec = CSS_dict[r][p][:, i] * scale\n",
    "            if (r==waves[0]) and (i==0) and (p==\"FDP\"):\n",
    "                vec=-vec\n",
    "            dx = vec[0] \n",
    "            dy = vec[1] \n",
    "            ax.arrow(X_train[:,0].mean(), X_train[:,1].mean(), dx, dy,color=cols[p], lw=1, alpha=0.8)\n",
    "    ax.set_ylim(0.5, 5.5)\n",
    "    ax.set_xlim(0.5, 5.5)\n",
    "    ax.set_xticks(range(1,6))\n",
    "    ax.set_yticks(range(1,6))\n",
    "    ax.set_aspect(\"equal\")\n",
    "    ax.grid(True)\n",
    "    ax.set_xlabel(\"ccnthum\", fontsize=bigfs)\n",
    "    if r==waves[0]:\n",
    "        ax.set_ylabel(\"wrclmch\", fontsize=bigfs)\n",
    "    ax.set_title(f\"ESS wave {r}\", fontsize=bigfs)\n",
    "axs[0].legend(fontsize=smallfs)\n",
    "fig.subplots_adjust(left=0.13, right=0.9, top=0.96, wspace=0.1)\n",
    "\n",
    "\n",
    "axs[0].text(0.01, 1.01, \"A\", va=\"bottom\", ha=\"left\", fontdict={\"weight\":\"bold\", \"size\":12}, transform=axs[0].transAxes)\n",
    "axs[1].text(0.01, 1.01, \"B\", va=\"bottom\", ha=\"left\", fontdict={\"weight\":\"bold\", \"size\":12}, transform=axs[1].transAxes)\n",
    "\n",
    "#fig.set_facecolor(\"y\")\n",
    "\n",
    "#plt.savefig(\"figs/Trafo_8-10_clch_party_onlyBlobsTot.png\", dpi=600)\n",
    "plt.savefig(f\"figs/Trafo_{waves[0]}-{waves[1]}_clch_party_+density_withId.png\", dpi=600)\n",
    "plt.savefig(f\"figs/Trafo_{waves[0]}-{waves[1]}_clch_party_+density_withId.pdf\")\n",
    "    "
   ]
  },
  {
   "cell_type": "markdown",
   "metadata": {},
   "source": [
    "### in separate panels"
   ]
  },
  {
   "cell_type": "code",
   "execution_count": null,
   "metadata": {},
   "outputs": [
    {
     "ename": "",
     "evalue": "",
     "output_type": "error",
     "traceback": [
      "\u001b[1;31mRunning cells with 'ms2-noise' requires the ipykernel package.\n",
      "\u001b[1;31mRun the following command to install 'ipykernel' into the Python environment. \n",
      "\u001b[1;31mCommand: 'conda install -n ms2-noise ipykernel --update-deps --force-reinstall'"
     ]
    }
   ],
   "source": [
    "\n",
    "cmap = truncate_colormap(plt.get_cmap(\"Greys\"), 0.2, 0.5)\n",
    "scale = 2\n",
    "fig, axs = plt.subplots(2,7, sharex=True, sharey=True, figsize=(16/2.54,6.5/2.54))#figsize=(16/2.54,8/2.54))\n",
    "for r, row in zip(waves, [0,1]):\n",
    "    axA = axs[row,:]\n",
    "    for p, ax in zip(parties, axA):\n",
    "        ax.set_facecolor(\"white\")\n",
    "        \n",
    "        df =  filtered_data.loc[filtered_data.essround==r].loc[filtered_data.identity==p][[\"ccnthum\", \"wrclmch\"]].dropna(how=\"any\")\n",
    "        counts = df.groupby(['wrclmch', 'ccnthum']).size()\n",
    "        df['observation_count'] = df.groupby(['wrclmch', 'ccnthum']).transform('size')\n",
    "        sns.scatterplot(\n",
    "            x='ccnthum',\n",
    "            y='wrclmch',\n",
    "            hue='observation_count',\n",
    "            palette=cmap,  # Blues and oranges color palette\n",
    "            size='observation_count',\n",
    "            sizes=(10, 50),  # Adjust size range\n",
    "            data=df,\n",
    "            alpha=1, \n",
    "            ax = ax, \n",
    "            legend=False\n",
    "        )\n",
    "        \n",
    "        col = cols[p]\n",
    "        X_train = filtered_data.loc[filtered_data.essround==r].loc[filtered_data.identity==p][[\"ccnthum\", \"wrclmch\"]].dropna(how=\"any\").to_numpy()\n",
    "        ax.plot(X_train[:,0].mean(), X_train[:,1].mean(), color=col, ls=\"\", marker=\"s\", markersize=3 , alpha=0.8, label=p)\n",
    "        for i in range(2):\n",
    "            vec = CSS_dict[r][p][:, i] * scale\n",
    "            if (r==waves[0]) and (i==0) and (p==\"FDP\"):\n",
    "                vec=-vec\n",
    "            dx = vec[0] \n",
    "            dy = vec[1] \n",
    "            ax.arrow(X_train[:,0].mean(), X_train[:,1].mean(), dx, dy,color=cols[p], lw=1, alpha=0.8)\n",
    "        ax.set_ylim(0.5, 5.5)\n",
    "        ax.set_xlim(0.5, 5.5)\n",
    "        ax.set_xticks(range(1,6))\n",
    "        ax.set_yticks(range(1,6))\n",
    "        ax.set_aspect(\"equal\")\n",
    "        ax.grid(True)\n",
    "        #if r==waves[0]:\n",
    "        #    ax.set_ylabel(\"wrclmch\", fontsize=bigfs)\n",
    "        #ax.set_title(f\"ESS wave {r}\", fontsize=bigfs)\n",
    "        if r==waves[0]:\n",
    "            ax.set_title(f\"{p}\", fontsize=bigfs)\n",
    "        \n",
    "        ax.set_xlabel(\"\")\n",
    "        ax.set_ylabel(\"\")\n",
    "axs[1, 3].set_xlabel(\"ccnthum\", fontsize=bigfs)\n",
    "axs[1, 0].set_ylabel(\"wrclmch\", fontsize=bigfs, y=1)\n",
    "\n",
    "\n",
    "#axs[0, 0].legend(fontsize=smallfs)\n",
    "axs[0,-1].text(1.2, 0.5, f\"wave {waves[0]}\", transform=axs[0,-1].transAxes, va=\"center\", ha=\"center\", rotation=90, fontsize=bigfs)\n",
    "axs[1,-1].text(1.2, 0.5, f\"wave {waves[1]}\", transform=axs[1,-1].transAxes, va=\"center\", ha=\"center\", rotation=90, fontsize=bigfs)\n",
    "\n",
    "fig.subplots_adjust(left=0.06, right=0.95, top=0.88, bottom=0.15, wspace=0.1, )\n",
    "#fig.tight_layout()\n",
    "\n",
    "#axs[0].text(0.01, 1.01, \"A\", va=\"bottom\", ha=\"left\", fontdict={\"weight\":\"bold\", \"size\":12}, transform=axs[0].transAxes)\n",
    "#axs[1, ].text(0.01, 1.01, \"B\", va=\"bottom\", ha=\"left\", fontdict={\"weight\":\"bold\", \"size\":12}, transform=axs[1].transAxes)\n",
    "\n",
    "#fig.set_facecolor(\"y\")\n",
    "\n",
    "plt.savefig(f\"figs/Trafo_{waves[0]}-{waves[1]}_clch_party_party-by-party.png\", dpi=600)\n",
    "plt.savefig(f\"figs/Trafo_{waves[0]}-{waves[1]}_clch_party_party-by-party.pdf\")\n",
    "    "
   ]
  },
  {
   "cell_type": "markdown",
   "metadata": {},
   "source": [
    "### without density"
   ]
  },
  {
   "cell_type": "code",
   "execution_count": null,
   "metadata": {},
   "outputs": [
    {
     "ename": "",
     "evalue": "",
     "output_type": "error",
     "traceback": [
      "\u001b[1;31mRunning cells with 'ms2-noise' requires the ipykernel package.\n",
      "\u001b[1;31mRun the following command to install 'ipykernel' into the Python environment. \n",
      "\u001b[1;31mCommand: 'conda install -n ms2-noise ipykernel --update-deps --force-reinstall'"
     ]
    }
   ],
   "source": [
    "# VIS plot axes of wave 8 and 10 by party\n",
    "scale = 1\n",
    "fig, axs = plt.subplots(1,2, sharex=True, sharey=True, figsize=(16/2.54,8/2.54))#figsize=(16/2.54,8/2.54))\n",
    "for r, ax in zip(waves, axs):\n",
    "    ax.set_facecolor(\"snow\")\n",
    "    for p in parties:\n",
    "        col = cols[p]\n",
    "        X_train = filtered_data.loc[filtered_data.essround==r].loc[filtered_data.identity==p][[\"ccnthum\", \"wrclmch\"]].dropna(how=\"any\").to_numpy()\n",
    "        ax.plot(X_train[:,0].mean(), X_train[:,1].mean(), color=col, ls=\"\", marker=\"s\", markersize=3 , alpha=0.8, label=p)\n",
    "        for i in range(2):\n",
    "            vec = CSS_dict[r][p][:, i] * scale\n",
    "            if (r==waves[0]) and (i==0) and (p==\"FDP\"):\n",
    "                vec=-vec\n",
    "            dx = vec[0] \n",
    "            dy = vec[1] \n",
    "            ax.arrow(X_train[:,0].mean(), X_train[:,1].mean(), dx, dy,color=cols[p], lw=1, alpha=0.8)\n",
    "        ax.set_ylim(0.5, 5.5)\n",
    "        ax.set_xlim(0.5, 5.5)\n",
    "        ax.set_xticks(range(1,6))\n",
    "        ax.set_yticks(range(1,6))\n",
    "        ax.set_aspect(\"equal\")\n",
    "        ax.grid(True)\n",
    "        ax.set_xlabel(\"ccnthum\", fontsize=bigfs)\n",
    "        if r==waves[0]:\n",
    "            ax.set_ylabel(\"wrclmch\", fontsize=bigfs)\n",
    "        ax.set_title(f\"ESS wave {r}\", fontsize=bigfs)\n",
    "axs[0].legend(fontsize=smallfs)\n",
    "fig.subplots_adjust(left=0.13, right=0.9, top=0.96, wspace=0.1)\n",
    "\n",
    "\n",
    "axs[0].text(0.01, 1.01, \"A\", va=\"bottom\", ha=\"left\", fontdict={\"weight\":\"bold\", \"size\":12}, transform=axs[0].transAxes)\n",
    "axs[1].text(0.01, 1.01, \"B\", va=\"bottom\", ha=\"left\", fontdict={\"weight\":\"bold\", \"size\":12}, transform=axs[1].transAxes)\n",
    "\n",
    "#fig.set_facecolor(\"y\")\n",
    "\n",
    "plt.savefig(f\"figs/Trafo_{waves[0]}-{waves[1]}_clch_party.png\", dpi=600)\n",
    "plt.savefig(f\"figs/Trafo_{waves[0]}-{waves[1]}_clch_party.pdf\")\n",
    "    "
   ]
  },
  {
   "cell_type": "code",
   "execution_count": null,
   "metadata": {},
   "outputs": [
    {
     "ename": "",
     "evalue": "",
     "output_type": "error",
     "traceback": [
      "\u001b[1;31mRunning cells with 'ms2-noise' requires the ipykernel package.\n",
      "\u001b[1;31mRun the following command to install 'ipykernel' into the Python environment. \n",
      "\u001b[1;31mCommand: 'conda install -n ms2-noise ipykernel --update-deps --force-reinstall'"
     ]
    }
   ],
   "source": [
    "scale = 1\n",
    "cmap = truncate_colormap(plt.get_cmap(\"Greys\"), 0.2, 0.35)\n",
    "\n",
    "fig, axs = plt.subplot_mosaic([[\"a\", \"b\", \"Greens\"], [\"a\" ,\"b\", \"AfD\"]], gridspec_kw={\"width_ratios\":[1,1,0.5]}, sharey=True, figsize=(16/2.54,8/2.54))#figsize=(16/2.54,8/2.54))\n",
    "\n",
    "for r, ax in zip(waves, [axs[\"a\"], axs[\"b\"]]):\n",
    "    #ax.set_facecolor(\"snow\")\n",
    "    df =  filtered_data.loc[filtered_data.essround==r][[\"ccnthum\", \"wrclmch\"]].dropna(how=\"any\")\n",
    "    counts = df.groupby(['wrclmch', 'ccnthum']).size()\n",
    "    df['observation_count'] = df.groupby(['wrclmch', 'ccnthum']).transform('size')\n",
    "    sns.scatterplot(\n",
    "        x='ccnthum',\n",
    "        y='wrclmch',\n",
    "        hue='observation_count',\n",
    "        palette=cmap,  # Blues and oranges color palette\n",
    "        size='observation_count',\n",
    "        sizes=(30, 300),  # Adjust size range\n",
    "        data=df,\n",
    "        ax = ax, \n",
    "        legend=False\n",
    "    )\n",
    "    for p in parties:\n",
    "        #if not p==\"None\":\n",
    "        #    pass\n",
    "        #else:\n",
    "        col = cols[p]      \n",
    "        \n",
    "        X_train = filtered_data.loc[filtered_data.essround==r].loc[filtered_data.identity==p][[\"ccnthum\", \"wrclmch\"]].dropna(how=\"any\").to_numpy()\n",
    "        ax.plot(X_train[:,0].mean(), X_train[:,1].mean(), color=col, ls=\"\", marker=\"s\", markersize=3 , alpha=0.8, label=p)\n",
    "        for i in range(2):\n",
    "            vec = CSS_dict[r][p][:, i] * scale\n",
    "            if (r==waves[0]) and (i==0) and (p==\"FDP\"):\n",
    "                vec=-vec\n",
    "            dx = vec[0] \n",
    "            dy = vec[1] \n",
    "            ax.arrow(X_train[:,0].mean(), X_train[:,1].mean(), dx, dy,color=cols[p], lw=1, alpha=0.8)\n",
    "            \n",
    "        if (r==waves[1]) and (p==\"AfD\" or p==\"Greens\"):\n",
    "            df =  filtered_data.loc[filtered_data.essround==r].loc[filtered_data.identity==p][[\"ccnthum\", \"wrclmch\"]].dropna(how=\"any\")\n",
    "            df['observation_count'] = df.groupby(['wrclmch', 'ccnthum']).transform('size')\n",
    "            sns.scatterplot(x='ccnthum',y='wrclmch', hue='observation_count', palette=cmap, size='observation_count', sizes=(10, 50), data=df, alpha=1, ax = axs[p], legend=False)\n",
    "            col = cols[p]\n",
    "            for r2, alpha in zip(waves, [0.5, 1]):\n",
    "                X_train = filtered_data.loc[filtered_data.essround==r2].loc[filtered_data.identity==p][[\"ccnthum\", \"wrclmch\"]].dropna(how=\"any\").to_numpy()\n",
    "                axs[p].plot(X_train[:,0].mean(), X_train[:,1].mean(), color=col, ls=\"\", marker=\"s\", markersize=3 , alpha=alpha)\n",
    "                for i in range(2):\n",
    "                    vec = CSS_dict[r2][p][:, i] * scale\n",
    "                    dx = vec[0] \n",
    "                    dy = vec[1] \n",
    "                    axs[p].arrow(X_train[:,0].mean(), X_train[:,1].mean(), dx, dy,color=cols[p], lw=1, alpha=alpha)\n",
    "            axs[p].set_xlabel(\"\")\n",
    "            axs[p].set_ylabel(\"\")\n",
    "            #axs[p].legend(title=\"wave\", fontsize=smallfs)\n",
    "            axs[p].set_ylim(0.5, 5.5)\n",
    "            axs[p].set_xlim(0.5, 5.5)\n",
    "            axs[p].set_xticks(range(1,6))\n",
    "            axs[p].set_yticks(range(1,6))\n",
    "            axs[p].set_aspect(\"equal\")\n",
    "            axs[p].grid(True)\n",
    "            axs[p].set_title(p, fontsize=bigfs)\n",
    "            axs[p].set_xticklabels([\"\" for _ in axs[p].get_xticklabels()])\n",
    "\n",
    "            \n",
    "    ax.set_ylim(0.5, 5.5)\n",
    "    ax.set_xlim(0.5, 5.5)\n",
    "    ax.set_xticks(range(1,6))\n",
    "    ax.set_yticks(range(1,6))\n",
    "    ax.set_aspect(\"equal\")\n",
    "    ax.grid(True)\n",
    "    ax.set_xlabel(\"ccnthum\", fontsize=bigfs)\n",
    "    if r==waves[0]:\n",
    "        ax.set_ylabel(\"wrclmch\", fontsize=bigfs)\n",
    "    ax.set_title(f\"ESS wave {r}\", fontsize=bigfs)\n",
    "axs[\"a\"].legend(fontsize=smallfs)\n",
    "\n",
    "\n",
    "axs[\"Greens\"].text(4.34, 4.45, r\"$10$\", ha=\"left\", va=\"bottom\", fontsize=smallfs)\n",
    "axs[\"Greens\"].text(3.8,3, r\"$8$\", ha=\"left\", va=\"bottom\", fontsize=smallfs)\n",
    "\n",
    "axs[\"AfD\"].text(3.8, 3.1, r\"$8$\", ha=\"left\", va=\"bottom\", fontsize=smallfs)\n",
    "axs[\"AfD\"].text(3.1, 2.3, r\"$10$\", ha=\"left\", va=\"top\", fontsize=smallfs)\n",
    "\n",
    "\n",
    "\n",
    "axs[\"a\"].text(0.01, 1.01, \"A\", va=\"bottom\", ha=\"left\", fontdict={\"weight\":\"bold\", \"size\":12}, transform=axs[\"a\"].transAxes)\n",
    "axs[\"b\"].text(0.01, 1.01, \"B\", va=\"bottom\", ha=\"left\", fontdict={\"weight\":\"bold\", \"size\":12}, transform=axs[\"b\"].transAxes)\n",
    "axs[\"Greens\"].text(0.01, 1.03, \"C\", va=\"bottom\", ha=\"left\", fontdict={\"weight\":\"bold\", \"size\":12}, transform=axs[\"Greens\"].transAxes)\n",
    "axs[\"AfD\"].text(0.01, 1.03, \"D\", va=\"bottom\", ha=\"left\", fontdict={\"weight\":\"bold\", \"size\":12}, transform=axs[\"AfD\"].transAxes)\n",
    "fig.subplots_adjust(left=0.07, right=0.99, top=0.96, bottom=0.07, wspace=0.1, hspace=0.05)\n",
    "\n",
    "#fig.set_facecolor(\"y\")\n",
    "#fig.tight_layout()\n",
    "#plt.savefig(\"figs/Trafo_8-10_clch_party_onlyBlobsTot.png\", dpi=600)\n",
    "plt.savefig(f\"figs/Trafo_{waves[0]}-{waves[1]}_clch_party_+density_withId_withExamples.png\", dpi=600)\n",
    "plt.savefig(f\"figs/Trafo_{waves[0]}-{waves[1]}_clch_party_+density_withId_withExamples.pdf\")\n",
    "    "
   ]
  },
  {
   "cell_type": "markdown",
   "metadata": {},
   "source": [
    "### Length of axes"
   ]
  },
  {
   "cell_type": "code",
   "execution_count": null,
   "metadata": {},
   "outputs": [
    {
     "ename": "",
     "evalue": "",
     "output_type": "error",
     "traceback": [
      "\u001b[1;31mRunning cells with 'ms2-noise' requires the ipykernel package.\n",
      "\u001b[1;31mRun the following command to install 'ipykernel' into the Python environment. \n",
      "\u001b[1;31mCommand: 'conda install -n ms2-noise ipykernel --update-deps --force-reinstall'"
     ]
    }
   ],
   "source": [
    "print(\"Length of the axes of Greens:\")\n",
    "for w in waves: \n",
    "    print(f\"wave {w}: \", end=\"\")\n",
    "    for v in range(2):\n",
    "        print(f\"vec {v}-->{np.linalg.norm(CSS_dict[w]['Greens'][:, v]):.2f}\", end=\", \")\n",
    "    print(\"\")\n",
    "\n",
    "print(\"Length of the axes of AfD:\")\n",
    "for w in waves: \n",
    "    print(f\"wave {w}: \", end=\"\")\n",
    "    for v in range(2):\n",
    "        print(f\"vec {v}-->{np.linalg.norm(CSS_dict[w]['AfD'][:, v]):.2f}\", end=\", \")\n",
    "    print(\"\")"
   ]
  },
  {
   "cell_type": "code",
   "execution_count": null,
   "metadata": {},
   "outputs": [
    {
     "ename": "",
     "evalue": "",
     "output_type": "error",
     "traceback": [
      "\u001b[1;31mRunning cells with 'ms2-noise' requires the ipykernel package.\n",
      "\u001b[1;31mRun the following command to install 'ipykernel' into the Python environment. \n",
      "\u001b[1;31mCommand: 'conda install -n ms2-noise ipykernel --update-deps --force-reinstall'"
     ]
    }
   ],
   "source": []
  },
  {
   "cell_type": "markdown",
   "metadata": {},
   "source": []
  }
 ],
 "metadata": {
  "kernelspec": {
   "display_name": "ms3",
   "language": "python",
   "name": "python3"
  },
  "language_info": {
   "codemirror_mode": {
    "name": "ipython",
    "version": 3
   },
   "file_extension": ".py",
   "mimetype": "text/x-python",
   "name": "python",
   "nbconvert_exporter": "python",
   "pygments_lexer": "ipython3",
   "version": "3.11.7"
  }
 },
 "nbformat": 4,
 "nbformat_minor": 2
}
